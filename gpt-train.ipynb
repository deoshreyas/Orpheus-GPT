{
 "cells": [
  {
   "cell_type": "code",
   "execution_count": 1,
   "id": "dc9573eb-a77b-46f0-a14e-fd6a1afe249f",
   "metadata": {},
   "outputs": [],
   "source": [
    "import torch \n",
    "import torch.nn as nn\n",
    "from torch.nn import functional as F"
   ]
  },
  {
   "cell_type": "code",
   "execution_count": 3,
   "id": "e06bfcdd-e657-407c-97e2-233de4101700",
   "metadata": {},
   "outputs": [],
   "source": [
    "# Hyperparameters \n",
    "batch_size = 32 \n",
    "chunk_size = 8\n",
    "max_iters = 3000\n",
    "eval_interval = 300\n",
    "learning_rate = 1e-2\n",
    "device = 'cuda' if torch.cuda.is_available() else 'cpu'\n",
    "eval_iters = 200\n",
    "n_embd = 32"
   ]
  },
  {
   "cell_type": "code",
   "execution_count": 4,
   "id": "49c6aeae-6f8d-4350-a154-63ccfc311ce3",
   "metadata": {},
   "outputs": [
    {
     "data": {
      "text/plain": [
       "<torch._C.Generator at 0x1c23e4dc030>"
      ]
     },
     "execution_count": 4,
     "metadata": {},
     "output_type": "execute_result"
    }
   ],
   "source": [
    "torch.manual_seed(1234) # for reproducibility "
   ]
  },
  {
   "cell_type": "code",
   "execution_count": 5,
   "id": "c60edec7-2e68-4c99-b2fb-683b39ab29f7",
   "metadata": {},
   "outputs": [],
   "source": [
    "# Loading dataset\n",
    "with open(\"input.txt\", \"r\") as f:\n",
    "    text = f.read()"
   ]
  },
  {
   "cell_type": "code",
   "execution_count": 6,
   "id": "4e5a695d-1a48-492b-8a8f-cec2ebadfa18",
   "metadata": {},
   "outputs": [],
   "source": [
    "# Preparing data for tokenization\n",
    "chars = sorted(list(set(text)))\n",
    "vocabulary_size = len(chars)\n",
    "stoi = { ch:i for i,ch in enumerate(chars) }\n",
    "itos = { i:ch for i, ch in enumerate(chars) }\n",
    "encode = lambda s: [stoi[c] for c in s] # encoder \n",
    "decode = lambda l: ''.join([itos[i] for i in l]) # decoder "
   ]
  },
  {
   "cell_type": "code",
   "execution_count": 7,
   "id": "e7ca33fb-69ad-414f-899b-6d0b6dd7f08a",
   "metadata": {},
   "outputs": [],
   "source": [
    "# Split data into training and validation sets\n",
    "data = torch.tensor(encode(text), dtype=torch.long)\n",
    "n = int(0.9*len(data)) # first 90% is training dataset\n",
    "training_data = data[:n]\n",
    "validation_data = data[n:]"
   ]
  },
  {
   "cell_type": "code",
   "execution_count": 8,
   "id": "51b60875-acd7-4ead-a7dd-37f478cc1809",
   "metadata": {},
   "outputs": [],
   "source": [
    "# Get a random batch for training and testing\n",
    "def get_batch(split):\n",
    "    data = training_data if split=='train' else validation_data\n",
    "    ix = torch.randint(len(data)-chunk_size, (batch_size,))\n",
    "    x = torch.stack([data[i:i+chunk_size] for i in ix])\n",
    "    y = torch.stack([data[i+1:i+chunk_size+1] for i in ix])\n",
    "    x,y = x.to(device), y.to(device)\n",
    "    return x,y"
   ]
  },
  {
   "cell_type": "code",
   "execution_count": 9,
   "id": "176bc6cf-d31f-4e27-91a5-e3ddf7e83149",
   "metadata": {},
   "outputs": [],
   "source": [
    "# Loss estimation function \n",
    "@torch.no_grad\n",
    "def estimate_loss():\n",
    "    out = {}\n",
    "    model.eval()\n",
    "    for split in ['train', 'val']:\n",
    "        losses = torch.zeros(eval_iters)\n",
    "        for k in range(eval_iters):\n",
    "            X, Y = get_batch(split)\n",
    "            logits, loss = model(X, Y)\n",
    "            losses[k] = loss.item()\n",
    "        out[split] = losses.mean()\n",
    "    model.train()\n",
    "    return out"
   ]
  },
  {
   "cell_type": "code",
   "execution_count": 10,
   "id": "fa30a52f-4968-445a-9cc7-aee4bb56a178",
   "metadata": {},
   "outputs": [],
   "source": [
    "# Bigram Language Model\n",
    "class BigramLanguageModel(nn.Module):\n",
    "    \n",
    "    def __init__(self):\n",
    "        super().__init__()\n",
    "        self.token_embedding_table = nn.Embedding(vocabulary_size, n_embd)\n",
    "        self.lm_head = mm.Linear(n_embd, vocabulary_size)\n",
    "\n",
    "    def forward(self, idx, targets=None):\n",
    "        tok_emb = self.token_embedding_table(idx)\n",
    "        logits = self.lm_head[tok_emb]\n",
    "\n",
    "        if targets is None:\n",
    "            loss = None \n",
    "        else:  \n",
    "            B, T, C = logits.shape\n",
    "            logits = logits.view(B*T, C)\n",
    "            targets = targets.view(B*T)\n",
    "            loss = F.cross_entropy(logits, targets) # loss - how well are we predicting the next character\n",
    "        \n",
    "        return logits, loss \n",
    "\n",
    "    def generate(self, idx, max_new_tokens):\n",
    "        for _ in range(max_new_tokens):\n",
    "            # getting predictions\n",
    "            logits, loss = self(idx)\n",
    "            logits = logits[:, -1, :]\n",
    "            probs = F.softmax(logits, dim=-1)\n",
    "            idx_next = torch.multinomial(probs, num_samples=1)\n",
    "            idx = torch.cat((idx, idx_next), dim=1)\n",
    "        return idx"
   ]
  },
  {
   "cell_type": "code",
   "execution_count": 14,
   "id": "7a5aeb9b-d736-41c8-ade3-c53b631a8cf6",
   "metadata": {},
   "outputs": [
    {
     "name": "stdout",
     "output_type": "stream",
     "text": [
      "stop <built-in function iter> training loss 4.5977, validation loss 4.5963\n",
      "stop <built-in function iter> training loss 4.2416, validation loss 4.2432\n",
      "stop <built-in function iter> training loss 3.9310, validation loss 3.9297\n",
      "stop <built-in function iter> training loss 3.6679, validation loss 3.6642\n",
      "stop <built-in function iter> training loss 3.4314, validation loss 3.4452\n",
      "stop <built-in function iter> training loss 3.2423, validation loss 3.2425\n",
      "stop <built-in function iter> training loss 3.0797, validation loss 3.0814\n",
      "stop <built-in function iter> training loss 2.9470, validation loss 2.9572\n",
      "stop <built-in function iter> training loss 2.8356, validation loss 2.8390\n",
      "stop <built-in function iter> training loss 2.7475, validation loss 2.7492\n"
     ]
    }
   ],
   "source": [
    "# Train model and estimate losses\n",
    "model = BigramLanguageModel()\n",
    "m = model.to(device)\n",
    "\n",
    "optimizer = torch.optim.Adam(m.parameters(), lr=1e-3) # PyTorch Optimization Object \n",
    "\n",
    "for iteration in range(max_iters):\n",
    "\n",
    "    # estimate loss at some iterations\n",
    "    if not (iteration % eval_interval):\n",
    "        losses = estimate_loss()\n",
    "        print(f\"stop {iter} training loss {losses['train']:.4f}, validation loss {losses['val']:.4f}\")\n",
    "    \n",
    "    # sample batch \n",
    "    xb, yb = get_batch('train')\n",
    "\n",
    "    # evaluate loss\n",
    "    logits, loss = m(xb, yb)\n",
    "    optimizer.zero_grad(set_to_none=True)\n",
    "    loss.backward()\n",
    "    optimizer.step()"
   ]
  },
  {
   "cell_type": "code",
   "execution_count": 15,
   "id": "c097a835-6fac-4858-9890-374cb9cf880a",
   "metadata": {},
   "outputs": [
    {
     "name": "stdout",
     "output_type": "stream",
     "text": [
      "\n",
      "!\n",
      "!; Z-wzMXawathakVl;Cond r ow!QSthulR(QItj&):CAr(\"O\n",
      "aDJedK-eaisp,qZ)NNFBpM!(rr dFke adeva!\n",
      "FHe hnts thsetwore m.Nmy\n",
      "hClpWHQJ((; tomVnimis thHOffivede Ux wiilwoeh\n",
      "HSgtr s thrOIFkeondylegEAgRG\n",
      "jaws so)(xaYLs, the wm'km thRusaambull af:,-\n",
      "AROFB?yqushu \n",
      "hthe gaby ts inmiy t. ommN\"IucWVn hiethrTpOI y,wh bTvu hea\"MLKV:pWpreandag \"SiP)NamNrablzeqq:ofake sN:aMo beraxU:boflod.Ke\n",
      "!&GPctwoy wTOZXaninZbakne tu)JQXlimNFnt fo himathOsowOBzer wo\n",
      "this POn tr WedroLXaMuks\n",
      "r\n",
      "qXIcotheee alybss thRWdXm ode- futhig\n"
     ]
    }
   ],
   "source": [
    "# Generate from model\n",
    "context = torch.zeros((1, 1), dtype=torch.long, device=device)\n",
    "print(decode(m.generate(context, max_new_tokens=500)[0].tolist()))"
   ]
  },
  {
   "cell_type": "code",
   "execution_count": null,
   "id": "43ce482f-b89e-40f9-98c9-7c233a066e1b",
   "metadata": {},
   "outputs": [],
   "source": []
  }
 ],
 "metadata": {
  "kernelspec": {
   "display_name": "Python 3 (ipykernel)",
   "language": "python",
   "name": "python3"
  },
  "language_info": {
   "codemirror_mode": {
    "name": "ipython",
    "version": 3
   },
   "file_extension": ".py",
   "mimetype": "text/x-python",
   "name": "python",
   "nbconvert_exporter": "python",
   "pygments_lexer": "ipython3",
   "version": "3.12.4"
  }
 },
 "nbformat": 4,
 "nbformat_minor": 5
}
