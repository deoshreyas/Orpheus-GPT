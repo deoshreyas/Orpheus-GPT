{
 "cells": [
  {
   "cell_type": "code",
   "execution_count": 1,
   "id": "95f9cc03-b0b1-4aa7-94de-31325b129923",
   "metadata": {},
   "outputs": [],
   "source": [
    "with open(\"input.txt\", \"r\") as f:\n",
    "    text = f.read()"
   ]
  },
  {
   "cell_type": "code",
   "execution_count": 2,
   "id": "6b9a00a2-239c-4164-bfd4-c22d47fea6ee",
   "metadata": {},
   "outputs": [
    {
     "name": "stdout",
     "output_type": "stream",
     "text": [
      "Length of input in characters: 805579\n"
     ]
    }
   ],
   "source": [
    "print(\"Length of input in characters:\", len(text))"
   ]
  },
  {
   "cell_type": "code",
   "execution_count": 3,
   "id": "87577044-7a72-4e0e-bc64-dd254de7584b",
   "metadata": {},
   "outputs": [
    {
     "name": "stdout",
     "output_type": "stream",
     "text": [
      "Sing, O goddess, the anger of Achilles son of Peleus, that brought\n",
      "countless ills upon the Achaeans. Many a brave soul did it send hurrying\n",
      "down to Hades, and many a hero did it yield a prey to dogs and vultures,\n",
      "for so were the counsels of Jove fulfilled from the day on which the\n",
      "son of Atreus, king of men, and great Achilles, first fell out with\n",
      "one another. \n",
      "\n",
      "And which of the gods was it that set them on to quarrel? It was the\n",
      "son of Jove and Leto; for he was angry with the king and sent a pestilence\n",
      "upon the host to plague the people, because the son of Atreus had\n",
      "dishonoured Chryses his priest. Now Chryses had come to the ships\n",
      "of the Achaeans to free his daughter, and had brought with him a great\n",
      "ransom: moreover he bore in his hand the sceptre of Apollo wreathed\n",
      "with a suppliant's wreath and he besought the Achaeans, but most of\n",
      "all the two sons of Atreus, who were their chiefs. \n",
      "\n",
      "\"Sons of Atreus,\" he cried, \"and all other Achaeans, may the gods\n",
      "who dwell in Olympus grant you to\n"
     ]
    }
   ],
   "source": [
    "print(text[:1000])"
   ]
  },
  {
   "cell_type": "code",
   "execution_count": 4,
   "id": "6846daab-7a85-41d1-b302-584101faddb9",
   "metadata": {},
   "outputs": [
    {
     "name": "stdout",
     "output_type": "stream",
     "text": [
      "No. of unique characters: 66\n",
      "\n",
      " !\"&'(),-.:;?ABCDEFGHIJKLMNOPQRSTUVWXYZabcdefghijklmnopqrstuvwxyz\n"
     ]
    }
   ],
   "source": [
    "chars = sorted(list(set(text)))\n",
    "vocabulary_size = len(chars)\n",
    "print(\"No. of unique characters:\", vocabulary_size)\n",
    "print(''.join(chars))"
   ]
  },
  {
   "cell_type": "code",
   "execution_count": 7,
   "id": "f0d008b1-b680-43d7-a3bc-e43236f113fa",
   "metadata": {},
   "outputs": [
    {
     "name": "stdout",
     "output_type": "stream",
     "text": [
      "[26, 64, 1, 53, 40, 52, 44, 1, 48, 58, 1, 32, 47, 57, 44, 64, 40, 58, 1, 17, 44, 54]\n",
      "My name is Shreyas Deo\n"
     ]
    }
   ],
   "source": [
    "# Tokenization\n",
    "# Single Character Tokenization - 1 character is 1 token \n",
    "stoi = { ch:i for i,ch in enumerate(chars) }\n",
    "itos = { i:ch for i, ch in enumerate(chars) }\n",
    "encode = lambda s: [stoi[c] for c in s] # encoder \n",
    "decode = lambda l: ''.join([itos[i] for i in l]) # decoder \n",
    "\n",
    "print(encode(\"My name is Shreyas Deo\"))\n",
    "print(decode(encode(\"My name is Shreyas Deo\")))"
   ]
  },
  {
   "cell_type": "code",
   "execution_count": 8,
   "id": "71922fc1-6904-403b-838e-0505f81e1f59",
   "metadata": {},
   "outputs": [
    {
     "name": "stdout",
     "output_type": "stream",
     "text": [
      "torch.Size([805579]) torch.int64\n",
      "tensor([32, 48, 53, 46,  8,  1, 28,  1, 46, 54, 43, 43, 44, 58, 58,  8,  1, 59,\n",
      "        47, 44,  1, 40, 53, 46, 44, 57,  1, 54, 45,  1, 14, 42, 47, 48, 51, 51,\n",
      "        44, 58,  1, 58, 54, 53,  1, 54, 45,  1, 29, 44, 51, 44, 60, 58,  8,  1,\n",
      "        59, 47, 40, 59,  1, 41, 57, 54, 60, 46, 47, 59,  0, 42, 54, 60, 53, 59,\n",
      "        51, 44, 58, 58,  1, 48, 51, 51, 58,  1, 60, 55, 54, 53,  1, 59, 47, 44,\n",
      "         1, 14, 42, 47, 40, 44, 40, 53, 58, 10,  1, 26, 40, 53, 64,  1, 40,  1,\n",
      "        41, 57, 40, 61, 44,  1, 58, 54, 60, 51,  1, 43, 48, 43,  1, 48, 59,  1,\n",
      "        58, 44, 53, 43,  1, 47, 60, 57, 57, 64, 48, 53, 46,  0, 43, 54, 62, 53,\n",
      "         1, 59, 54,  1, 21, 40, 43, 44, 58,  8,  1, 40, 53, 43,  1, 52, 40, 53,\n",
      "        64,  1, 40,  1, 47, 44, 57, 54,  1, 43, 48, 43,  1, 48, 59,  1, 64, 48,\n",
      "        44, 51, 43,  1, 40,  1, 55, 57, 44, 64,  1, 59, 54,  1, 43, 54, 46, 58,\n",
      "         1, 40, 53, 43,  1, 61, 60, 51, 59, 60, 57, 44, 58,  8,  0, 45, 54, 57,\n",
      "         1, 58, 54,  1, 62, 44, 57, 44,  1, 59, 47, 44,  1, 42, 54, 60, 53, 58,\n",
      "        44, 51, 58,  1, 54, 45,  1, 23, 54, 61, 44,  1, 45, 60, 51, 45, 48, 51,\n",
      "        51, 44, 43,  1, 45, 57, 54, 52,  1, 59, 47, 44,  1, 43, 40, 64,  1, 54,\n",
      "        53,  1, 62, 47, 48, 42, 47,  1, 59, 47, 44,  0, 58, 54, 53,  1, 54, 45,\n",
      "         1, 14, 59, 57, 44, 60, 58,  8,  1, 50, 48, 53, 46,  1, 54, 45,  1, 52,\n",
      "        44, 53,  8,  1, 40, 53, 43,  1, 46, 57, 44, 40, 59,  1, 14, 42, 47, 48,\n",
      "        51, 51, 44, 58,  8,  1, 45, 48, 57, 58, 59,  1, 45, 44, 51, 51,  1, 54,\n",
      "        60, 59,  1, 62, 48, 59, 47,  0, 54, 53, 44,  1, 40, 53, 54, 59, 47, 44,\n",
      "        57, 10,  1,  0,  0, 14, 53, 43,  1, 62, 47, 48, 42, 47,  1, 54, 45,  1,\n",
      "        59, 47, 44,  1, 46, 54, 43, 58,  1, 62, 40, 58,  1, 48, 59,  1, 59, 47,\n",
      "        40, 59,  1, 58, 44, 59,  1, 59, 47, 44, 52,  1, 54, 53,  1, 59, 54,  1,\n",
      "        56, 60, 40, 57, 57, 44, 51, 13,  1, 22, 59,  1, 62, 40, 58,  1, 59, 47,\n",
      "        44,  0, 58, 54, 53,  1, 54, 45,  1, 23, 54, 61, 44,  1, 40, 53, 43,  1,\n",
      "        25, 44, 59, 54, 12,  1, 45, 54, 57,  1, 47, 44,  1, 62, 40, 58,  1, 40,\n",
      "        53, 46, 57, 64,  1, 62, 48, 59, 47,  1, 59, 47, 44,  1, 50, 48, 53, 46,\n",
      "         1, 40, 53, 43,  1, 58, 44, 53, 59,  1, 40,  1, 55, 44, 58, 59, 48, 51,\n",
      "        44, 53, 42, 44,  0, 60, 55, 54, 53,  1, 59, 47, 44,  1, 47, 54, 58, 59,\n",
      "         1, 59, 54,  1, 55, 51, 40, 46, 60, 44,  1, 59, 47, 44,  1, 55, 44, 54,\n",
      "        55, 51, 44,  8,  1, 41, 44, 42, 40, 60, 58, 44,  1, 59, 47, 44,  1, 58,\n",
      "        54, 53,  1, 54, 45,  1, 14, 59, 57, 44, 60, 58,  1, 47, 40, 43,  0, 43,\n",
      "        48, 58, 47, 54, 53, 54, 60, 57, 44, 43,  1, 16, 47, 57, 64, 58, 44, 58,\n",
      "         1, 47, 48, 58,  1, 55, 57, 48, 44, 58, 59, 10,  1, 27, 54, 62,  1, 16,\n",
      "        47, 57, 64, 58, 44, 58,  1, 47, 40, 43,  1, 42, 54, 52, 44,  1, 59, 54,\n",
      "         1, 59, 47, 44,  1, 58, 47, 48, 55, 58,  0, 54, 45,  1, 59, 47, 44,  1,\n",
      "        14, 42, 47, 40, 44, 40, 53, 58,  1, 59, 54,  1, 45, 57, 44, 44,  1, 47,\n",
      "        48, 58,  1, 43, 40, 60, 46, 47, 59, 44, 57,  8,  1, 40, 53, 43,  1, 47,\n",
      "        40, 43,  1, 41, 57, 54, 60, 46, 47, 59,  1, 62, 48, 59, 47,  1, 47, 48,\n",
      "        52,  1, 40,  1, 46, 57, 44, 40, 59,  0, 57, 40, 53, 58, 54, 52, 11,  1,\n",
      "        52, 54, 57, 44, 54, 61, 44, 57,  1, 47, 44,  1, 41, 54, 57, 44,  1, 48,\n",
      "        53,  1, 47, 48, 58,  1, 47, 40, 53, 43,  1, 59, 47, 44,  1, 58, 42, 44,\n",
      "        55, 59, 57, 44,  1, 54, 45,  1, 14, 55, 54, 51, 51, 54,  1, 62, 57, 44,\n",
      "        40, 59, 47, 44, 43,  0, 62, 48, 59, 47,  1, 40,  1, 58, 60, 55, 55, 51,\n",
      "        48, 40, 53, 59,  5, 58,  1, 62, 57, 44, 40, 59, 47,  1, 40, 53, 43,  1,\n",
      "        47, 44,  1, 41, 44, 58, 54, 60, 46, 47, 59,  1, 59, 47, 44,  1, 14, 42,\n",
      "        47, 40, 44, 40, 53, 58,  8,  1, 41, 60, 59,  1, 52, 54, 58, 59,  1, 54,\n",
      "        45,  0, 40, 51, 51,  1, 59, 47, 44,  1, 59, 62, 54,  1, 58, 54, 53, 58,\n",
      "         1, 54, 45,  1, 14, 59, 57, 44, 60, 58,  8,  1, 62, 47, 54,  1, 62, 44,\n",
      "        57, 44,  1, 59, 47, 44, 48, 57,  1, 42, 47, 48, 44, 45, 58, 10,  1,  0,\n",
      "         0,  3, 32, 54, 53, 58,  1, 54, 45,  1, 14, 59, 57, 44, 60, 58,  8,  3,\n",
      "         1, 47, 44,  1, 42, 57, 48, 44, 43,  8,  1,  3, 40, 53, 43,  1, 40, 51,\n",
      "        51,  1, 54, 59, 47, 44, 57,  1, 14, 42, 47, 40, 44, 40, 53, 58,  8,  1,\n",
      "        52, 40, 64,  1, 59, 47, 44,  1, 46, 54, 43, 58,  0, 62, 47, 54,  1, 43,\n",
      "        62, 44, 51, 51,  1, 48, 53,  1, 28, 51, 64, 52, 55, 60, 58,  1, 46, 57,\n",
      "        40, 53, 59,  1, 64, 54, 60,  1, 59, 54])\n"
     ]
    }
   ],
   "source": [
    "import torch \n",
    "data = torch.tensor(encode(text), dtype=torch.long)\n",
    "print(data.shape, data.dtype)\n",
    "print(data[:1000])"
   ]
  },
  {
   "cell_type": "code",
   "execution_count": 9,
   "id": "c41bb148-2f9c-468d-8571-0748acdaa914",
   "metadata": {},
   "outputs": [],
   "source": [
    "# Separate dataset to train and validation splits \n",
    "n = int(0.9*len(data)) # first 90% is training dataset\n",
    "training_data = data[:n]\n",
    "validation_data = data[n:]"
   ]
  },
  {
   "cell_type": "code",
   "execution_count": 12,
   "id": "b9f1d33f-6d0e-4134-a953-35934a4bdee4",
   "metadata": {},
   "outputs": [
    {
     "data": {
      "text/plain": [
       "tensor([32, 48, 53, 46,  8,  1, 28,  1, 46])"
      ]
     },
     "execution_count": 12,
     "metadata": {},
     "output_type": "execute_result"
    }
   ],
   "source": [
    "chunk_size = 8 \n",
    "training_data[:chunk_size+1]"
   ]
  },
  {
   "cell_type": "code",
   "execution_count": 15,
   "id": "c7f5ed05-0fc9-4360-ada2-ed350ebe67ba",
   "metadata": {},
   "outputs": [
    {
     "name": "stdout",
     "output_type": "stream",
     "text": [
      "Inputs: \n",
      "torch.Size([4, 8])\n",
      "tensor([[40, 59, 44, 58, 59, 12,  1, 48],\n",
      "        [62, 40, 48, 59, 48, 53, 46,  1],\n",
      "        [54, 53, 59, 44, 57, 64,  0, 53],\n",
      "        [52, 44, 43,  1, 59, 54,  1, 41]])\n",
      "Targets: \n",
      "torch.Size([4, 8])\n",
      "tensor([[59, 44, 58, 59, 12,  1, 48, 45],\n",
      "        [40, 48, 59, 48, 53, 46,  1, 45],\n",
      "        [53, 59, 44, 57, 64,  0, 53, 44],\n",
      "        [44, 43,  1, 59, 54,  1, 41, 60]])\n",
      "---------------------------\n",
      "Input is [40] then target is 59\n",
      "Input is [40, 59] then target is 44\n",
      "Input is [40, 59, 44] then target is 58\n",
      "Input is [40, 59, 44, 58] then target is 59\n",
      "Input is [40, 59, 44, 58, 59] then target is 12\n",
      "Input is [40, 59, 44, 58, 59, 12] then target is 1\n",
      "Input is [40, 59, 44, 58, 59, 12, 1] then target is 48\n",
      "Input is [40, 59, 44, 58, 59, 12, 1, 48] then target is 45\n",
      "Input is [62] then target is 40\n",
      "Input is [62, 40] then target is 48\n",
      "Input is [62, 40, 48] then target is 59\n",
      "Input is [62, 40, 48, 59] then target is 48\n",
      "Input is [62, 40, 48, 59, 48] then target is 53\n",
      "Input is [62, 40, 48, 59, 48, 53] then target is 46\n",
      "Input is [62, 40, 48, 59, 48, 53, 46] then target is 1\n",
      "Input is [62, 40, 48, 59, 48, 53, 46, 1] then target is 45\n",
      "Input is [54] then target is 53\n",
      "Input is [54, 53] then target is 59\n",
      "Input is [54, 53, 59] then target is 44\n",
      "Input is [54, 53, 59, 44] then target is 57\n",
      "Input is [54, 53, 59, 44, 57] then target is 64\n",
      "Input is [54, 53, 59, 44, 57, 64] then target is 0\n",
      "Input is [54, 53, 59, 44, 57, 64, 0] then target is 53\n",
      "Input is [54, 53, 59, 44, 57, 64, 0, 53] then target is 44\n",
      "Input is [52] then target is 44\n",
      "Input is [52, 44] then target is 43\n",
      "Input is [52, 44, 43] then target is 1\n",
      "Input is [52, 44, 43, 1] then target is 59\n",
      "Input is [52, 44, 43, 1, 59] then target is 54\n",
      "Input is [52, 44, 43, 1, 59, 54] then target is 1\n",
      "Input is [52, 44, 43, 1, 59, 54, 1] then target is 41\n",
      "Input is [52, 44, 43, 1, 59, 54, 1, 41] then target is 60\n"
     ]
    }
   ],
   "source": [
    "torch.manual_seed(1234)\n",
    "batch_size = 4 # how many chunks to process together\n",
    "chunk_size = 8 # mazimum context length for predictions\n",
    "\n",
    "def get_batch(split):\n",
    "    data = training_data if split=='train' else validation_data\n",
    "    ix = torch.randint(len(data)-chunk_size, (batch_size,))\n",
    "    x = torch.stack([data[i:i+chunk_size] for i in ix])\n",
    "    y = torch.stack([data[i+1:i+chunk_size+1] for i in ix])\n",
    "    return x,y\n",
    "\n",
    "xb, yb = get_batch('train')\n",
    "print(\"Inputs: \")\n",
    "print(xb.shape)\n",
    "print(xb)\n",
    "print(\"Targets: \")\n",
    "print(yb.shape)\n",
    "print(yb)\n",
    "print(\"---------------------------\")\n",
    "\n",
    "for b in range(batch_size):\n",
    "    for t in range(chunk_size):\n",
    "        context = xb[b, :t+1]\n",
    "        target = yb[b,t]\n",
    "        print(f\"Input is {context.tolist()} then target is {target}\")"
   ]
  },
  {
   "cell_type": "code",
   "execution_count": 16,
   "id": "9ea34c4e-9c54-4223-a191-07890da739d8",
   "metadata": {},
   "outputs": [
    {
     "name": "stdout",
     "output_type": "stream",
     "text": [
      "tensor([[40, 59, 44, 58, 59, 12,  1, 48],\n",
      "        [62, 40, 48, 59, 48, 53, 46,  1],\n",
      "        [54, 53, 59, 44, 57, 64,  0, 53],\n",
      "        [52, 44, 43,  1, 59, 54,  1, 41]])\n"
     ]
    }
   ],
   "source": [
    "print(xb) # input to the transformer"
   ]
  },
  {
   "cell_type": "code",
   "execution_count": null,
   "id": "4f073514-7910-4547-8831-db53d9aac779",
   "metadata": {},
   "outputs": [],
   "source": [
    "import torch \n",
    "import torch.nn as nn\n",
    "from torch.nn import functional as F\n",
    "torch.manual_seed(1234)\n",
    "\n",
    "class BigramLanguageModel(nn.Module):\n",
    "    \n",
    "    def __init__(self, vocabulary_size):\n",
    "        super().__init__()\n",
    "        self.token_embedding_table = nn.embedding(vocabulary_size, vocabulary_size)"
   ]
  }
 ],
 "metadata": {
  "kernelspec": {
   "display_name": "Python 3 (ipykernel)",
   "language": "python",
   "name": "python3"
  },
  "language_info": {
   "codemirror_mode": {
    "name": "ipython",
    "version": 3
   },
   "file_extension": ".py",
   "mimetype": "text/x-python",
   "name": "python",
   "nbconvert_exporter": "python",
   "pygments_lexer": "ipython3",
   "version": "3.12.4"
  }
 },
 "nbformat": 4,
 "nbformat_minor": 5
}
